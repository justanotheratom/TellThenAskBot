{
 "cells": [
  {
   "cell_type": "code",
   "execution_count": null,
   "metadata": {},
   "outputs": [],
   "source": [
    "import telebot\n",
    "\n",
    "TOKEN = '<telegram bot token>'\n",
    "tb = telebot.TeleBot(TOKEN)\t#create a new Telegram Bot object"
   ]
  },
  {
   "cell_type": "code",
   "execution_count": null,
   "metadata": {},
   "outputs": [],
   "source": [
    "user = tb.get_me()\n",
    "user.username"
   ]
  },
  {
   "cell_type": "code",
   "execution_count": null,
   "metadata": {},
   "outputs": [],
   "source": [
    "# set webhook\n",
    "WEBHOOK_URL = \"<my webhook url>\"\n",
    "tb.set_webhook(url=WEBHOOK_URL)"
   ]
  },
  {
   "cell_type": "code",
   "execution_count": null,
   "metadata": {},
   "outputs": [],
   "source": [
    "wbi = tb.get_webhook_info()\n",
    "wbi.last_error_message"
   ]
  }
 ],
 "metadata": {
  "kernelspec": {
   "display_name": "Python 3.7.7 64-bit",
   "language": "python",
   "name": "python3"
  },
  "language_info": {
   "codemirror_mode": {
    "name": "ipython",
    "version": 3
   },
   "file_extension": ".py",
   "mimetype": "text/x-python",
   "name": "python",
   "nbconvert_exporter": "python",
   "pygments_lexer": "ipython3",
   "version": "3.7.7"
  },
  "orig_nbformat": 4,
  "vscode": {
   "interpreter": {
    "hash": "faa94137048b306753e447da8ea9c16305e0552a6e28c6b1e18864bb80487e26"
   }
  }
 },
 "nbformat": 4,
 "nbformat_minor": 2
}
